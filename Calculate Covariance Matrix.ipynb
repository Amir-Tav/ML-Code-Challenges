{
  "nbformat": 4,
  "nbformat_minor": 0,
  "metadata": {
    "colab": {
      "provenance": []
    },
    "kernelspec": {
      "name": "python3",
      "display_name": "Python 3"
    },
    "language_info": {
      "name": "python"
    }
  },
  "cells": [
    {
      "cell_type": "markdown",
      "source": [
        "## Calculate Covariance Matrix\n",
        "\n",
        "The covariance matrix is a square matrix that provides the covariance between each pair of features in a dataset. It is crucial in statistics, especially for understanding how different variables relate to each other. In machine learning, it is used in techniques like Principal Component Analysis (PCA) to analyze the correlation between features.\n",
        "\n",
        "### Steps to Calculate the Covariance Matrix:\n",
        "- **Mean Calculation**: Calculate the mean of each vector (or feature) in the dataset.\n",
        "- **Covariance of Each Vector**: Compute the covariance of each vector with itself (variance) and with other vectors.\n",
        "- **Matrix Construction**: Construct the covariance matrix where each element represents the covariance between two vectors.\n",
        "\n",
        "For more information visit [this page](https://www.deep-ml.com/problem/Calculate%20Covariance%20Matrix)."
      ],
      "metadata": {
        "id": "5Rft7iZ_YZj2"
      }
    },
    {
      "cell_type": "code",
      "execution_count": 5,
      "metadata": {
        "colab": {
          "base_uri": "https://localhost:8080/"
        },
        "id": "V47wfoIcYWBQ",
        "outputId": "9cf54126-6bb0-44ba-85a0-69570a333fbb"
      },
      "outputs": [
        {
          "output_type": "stream",
          "name": "stdout",
          "text": [
            "[[1.0, 1.0], [1.0, 1.0]]\n"
          ]
        }
      ],
      "source": [
        "# Import necessary library\n",
        "import numpy as np\n",
        "\n",
        "# Function to calculate the covariance matrix of a list of vectors\n",
        "def calculate_covariance_matrix(vectors: list[list[float]]) -> list[list[float]]:\n",
        "\n",
        "    # Get the number of vectors (nV) and the length of each vector (lV)\n",
        "    nV = len(vectors)  # Number of vectors (features)\n",
        "    lV = len(vectors[0])  # Length of each vector (number of observations)\n",
        "\n",
        "    # Initialize the covariance matrix with zeros\n",
        "    cov_matrix = np.zeros((nV, nV))\n",
        "\n",
        "    # Step 1: Calculate the mean of each vector (feature)\n",
        "    mean = [0] * nV  # List to store the mean of each vector\n",
        "    for i in range(nV):\n",
        "        mean[i] = sum(vectors[i]) / lV  # Mean of each vector\n",
        "\n",
        "    # Step 2: Calculate the covariance of each vector with itself (variance)\n",
        "    cov_v = [0] * nV  # List to store the covariance (variance) of each vector\n",
        "    for i in range(nV):\n",
        "        sq_sum = 0\n",
        "        for j in range(lV):\n",
        "            sq_sum += (vectors[i][j] - mean[i]) ** 2  # Sum of squared differences from the mean\n",
        "        cov_v[i] = (1 / (lV - 1)) * sq_sum  # Covariance (or variance) of the vector\n",
        "\n",
        "    # Step 3: Set the diagonal elements of the covariance matrix to the variance of each vector\n",
        "    for i in range(nV):\n",
        "        cov_matrix[i][i] = cov_v[i]\n",
        "\n",
        "    # Step 4: Calculate the covariance between each pair of vectors\n",
        "    for i in range(nV):\n",
        "        for j in range(i + 1, nV):\n",
        "            # Compute the covariance between vectors i and j\n",
        "            prod_sum = sum((vectors[i][k] - mean[i]) * (vectors[j][k] - mean[j]) for k in range(lV))\n",
        "            cov_matrix[i, j] = (1 / (lV - 1)) * prod_sum  # Covariance between i and j\n",
        "            cov_matrix[j, i] = cov_matrix[i, j]  # Symmetric matrix: cov(i, j) == cov(j, i)\n",
        "\n",
        "    # Return the covariance matrix as a list of lists\n",
        "    return cov_matrix.tolist()\n",
        "\n",
        "# Example usage of the calculate_covariance_matrix function\n",
        "vectors = [[1, 2, 3], [4, 5, 6]]  # Example input vectors\n",
        "print(calculate_covariance_matrix(vectors))"
      ]
    }
  ]
}