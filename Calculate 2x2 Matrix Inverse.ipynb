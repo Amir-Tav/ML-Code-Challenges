{
  "nbformat": 4,
  "nbformat_minor": 0,
  "metadata": {
    "colab": {
      "provenance": []
    },
    "kernelspec": {
      "name": "python3",
      "display_name": "Python 3"
    },
    "language_info": {
      "name": "python"
    }
  },
  "cells": [
    {
      "cell_type": "markdown",
      "source": [
        "## Calculate 2x2 Matrix Inverse\n",
        "\n",
        "The inverse of a matrix is a matrix that, when multiplied with the original matrix, results in the identity matrix. Not all matrices have an inverse. A 2x2 matrix has an inverse if and only if its determinant is non-zero. The inverse is often used in solving systems of linear equations and in various applications in machine learning and data science.\n",
        "\n",
        "### Steps to Calculate the 2x2 Matrix Inverse:\n",
        "- **Matrix Conversion**: Convert the input 2x2 matrix into a NumPy array for easier computation.\n",
        "- **Use NumPy's `inv` Function**: Use `np.linalg.inv()` to compute the inverse of the matrix.\n",
        "- **Return Inverse**: Return the calculated inverse matrix.\n",
        "\n",
        "For more information, visit [this page](https://www.deep-ml.com/problem/Calculate%202x2%20Matrix%20Inverse)."
      ],
      "metadata": {
        "id": "5Rft7iZ_YZj2"
      }
    },
    {
      "cell_type": "code",
      "execution_count": 2,
      "metadata": {
        "colab": {
          "base_uri": "https://localhost:8080/"
        },
        "id": "V47wfoIcYWBQ",
        "outputId": "4a1d4174-68bc-4492-8c15-91e93f3a2e4d"
      },
      "outputs": [
        {
          "output_type": "stream",
          "name": "stdout",
          "text": [
            "[[0.6000000000000001, -0.7000000000000001], [-0.2, 0.4]]\n"
          ]
        }
      ],
      "source": [
        "# Import necessary library\n",
        "import numpy as np\n",
        "\n",
        "# Function to calculate the inverse of a 2x2 matrix\n",
        "def inverse_2x2(matrix: list[list[float]]) -> list[list[float]]:\n",
        "\n",
        "    # Convert the input matrix (list of lists) into a NumPy array for efficient computation\n",
        "    matrix_np = np.array(matrix)\n",
        "\n",
        "    # Calculate the inverse using NumPy's 'inv' function\n",
        "    # 'inv' returns the inverse of the matrix, if it exists\n",
        "    inverse = np.linalg.inv(matrix_np)\n",
        "\n",
        "    # Return the inverse matrix\n",
        "    return inverse.tolist()\n",
        "\n",
        "# Example usage of the inverse_2x2 function\n",
        "matrix = [[4, 7], [2, 6]]  # A 2x2 matrix\n",
        "print(inverse_2x2(matrix))"
      ]
    }
  ]
}