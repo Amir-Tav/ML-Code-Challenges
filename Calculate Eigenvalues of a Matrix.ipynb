{
  "nbformat": 4,
  "nbformat_minor": 0,
  "metadata": {
    "colab": {
      "provenance": []
    },
    "kernelspec": {
      "name": "python3",
      "display_name": "Python 3"
    },
    "language_info": {
      "name": "python"
    }
  },
  "cells": [
    {
      "cell_type": "markdown",
      "source": [
        "## Calculate Eigenvalues of a Matrix\n",
        "\n",
        "Eigenvalues are scalar values that give insight into the properties of a matrix. They represent the factors by which a corresponding eigenvector is scaled during a linear transformation. Calculating eigenvalues is a fundamental task in various fields, including machine learning, physics, and statistics.\n",
        "\n",
        "### Steps for Calculating Eigenvalues:\n",
        "- **Matrix Conversion**: Convert the input matrix into a NumPy array to leverage efficient numerical methods.\n",
        "- **Eigenvalue Computation**: Use NumPy's `eig` function to calculate the eigenvalues of the matrix.\n",
        "- **Return Eigenvalues**: Extract the eigenvalues and return them as a list.\n",
        "\n",
        "For more information visit [this page](https://www.deep-ml.com/problem/Calculate%20Eigenvalues%20of%20a%20Matrix).\n"
      ],
      "metadata": {
        "id": "5Rft7iZ_YZj2"
      }
    },
    {
      "cell_type": "code",
      "execution_count": 3,
      "metadata": {
        "colab": {
          "base_uri": "https://localhost:8080/"
        },
        "id": "V47wfoIcYWBQ",
        "outputId": "be517b74-f9ff-417c-a517-4d551682e028"
      },
      "outputs": [
        {
          "output_type": "stream",
          "name": "stdout",
          "text": [
            "[3.0, 1.0]\n"
          ]
        }
      ],
      "source": [
        "# Import necessary library\n",
        "import numpy as np\n",
        "\n",
        "# Function to calculate the eigenvalues of a matrix\n",
        "def calculate_eigenvalues(matrix: list[list[float|int]]) -> list[float]:\n",
        "    # Convert the input matrix (list of lists) into a NumPy array for efficient computation\n",
        "    matrix_np = np.array(matrix)\n",
        "\n",
        "    # Calculate eigenvalues using NumPy's 'eig' function\n",
        "    # 'eig' returns both eigenvalues and eigenvectors, but we're only interested in the eigenvalues\n",
        "    eigenvalues, _ = np.linalg.eig(matrix_np)\n",
        "\n",
        "    # Return the eigenvalues as a list\n",
        "    return eigenvalues.tolist()\n",
        "\n",
        "# Example usage of the calculate_eigenvalues function\n",
        "matrix = [[2, 1], [1, 2]]  # A simple 2x2 matrix\n",
        "print(calculate_eigenvalues(matrix))"
      ]
    }
  ]
}