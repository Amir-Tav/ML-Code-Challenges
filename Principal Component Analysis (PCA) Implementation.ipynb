{
  "nbformat": 4,
  "nbformat_minor": 0,
  "metadata": {
    "colab": {
      "provenance": []
    },
    "kernelspec": {
      "name": "python3",
      "display_name": "Python 3"
    },
    "language_info": {
      "name": "python"
    }
  },
  "cells": [
    {
      "cell_type": "markdown",
      "source": [
        "## Principal Component Analysis (PCA) Implementation\n",
        "\n",
        "Principal Component Analysis (PCA) is a statistical method used for dimensionality reduction while preserving as much of the variance in the data as possible. It transforms the data into a new set of orthogonal axes, called principal components, ordered by the variance they capture.\n",
        "\n",
        "### Steps in PCA Implementation:\n",
        "- **Standardization**: Scale the data so that each feature has zero mean and unit variance.\n",
        "- **Covariance Matrix**: Compute the covariance matrix of the standardized data.\n",
        "- **Eigen Decomposition**: Calculate the eigenvalues and eigenvectors of the covariance matrix.\n",
        "- **Sorting Eigenvalues**: Sort the eigenvalues in descending order and rearrange the eigenvectors accordingly.\n",
        "- **Selecting Top k Components**: Choose the top k eigenvectors corresponding to the largest eigenvalues.\n",
        "- **Sign Consistency**: Adjust the signs of the eigenvectors for consistency.\n",
       
      ],
      "metadata": {
        "id": "5Rft7iZ_YZj2"
      }
    },
    {
      "cell_type": "code",
      "execution_count": 2,
      "metadata": {
        "colab": {
          "base_uri": "https://localhost:8080/"
        },
        "id": "V47wfoIcYWBQ",
        "outputId": "719a2189-a13c-40c5-c5c4-9c4a865d2c54"
      },
      "outputs": [
        {
          "output_type": "stream",
          "name": "stdout",
          "text": [
            "[[0.6855, 0.0776], [0.6202, 0.4586], [-0.3814, 0.8853]]\n"
          ]
        }
      ],
      "source": [
        "# Import necessary libraries\n",
        "import numpy as np\n",
        "\n",
        "def pca(data: np.ndarray, k: int):\n",
        "\n",
        "    # Standardization: Center the data by subtracting the mean and scaling by the standard deviation.\n",
        "    # This ensures each feature has zero mean and unit variance.\n",
        "    mean = np.mean(data, axis=0)\n",
        "    std = np.std(data, axis=0)\n",
        "    std_data = (data - mean) / std  # Standardized data\n",
        "\n",
        "    # Compute the covariance matrix of the standardized data\n",
        "    # This matrix represents the relationships between the features.\n",
        "    cov_matrix = np.cov(std_data, rowvar=False)\n",
        "    # 'rowvar=False' ensures the features are represented by columns, and observations by rows.\n",
        "\n",
        "    # Perform eigenvalue and eigenvector decomposition on the covariance matrix\n",
        "    evals, evecs = np.linalg.eigh(cov_matrix)\n",
        "    # 'np.linalg.eigh' is used because the covariance matrix is symmetric, so it is more efficient.\n",
        "\n",
        "    # Sort eigenvalues in descending order and rearrange eigenvectors accordingly\n",
        "    sorted_indices = np.argsort(evals)[::-1]  # Indices of eigenvalues sorted in descending order\n",
        "    sorted_evecs = evecs[:, sorted_indices]  # Reorder eigenvectors to match sorted eigenvalues\n",
        "\n",
        "    # Select the top k eigenvectors (principal components)\n",
        "    top_k = sorted_evecs[:, :k]\n",
        "\n",
        "    # Adjust the signs of the eigenvectors for consistency (optional but common practice)\n",
        "    for i in range(top_k.shape[1]):\n",
        "        if top_k[0, i] < 0:\n",
        "            top_k[:, i] *= -1  # Flip the sign of the eigenvector if the first element is negative\n",
        "\n",
        "    # Return the top k principal components, rounded to 4 decimal places for readability\n",
        "    return np.round(top_k, 4).tolist()\n",
        "\n",
        "# Example usage of the PCA function\n",
        "# Input data: Each row represents an observation, and each column represents a feature\n",
        "data = np.array([[4, 2, 1],\n",
        "                 [5, 6, 7],\n",
        "                 [9, 12, 1],\n",
        "                 [4, 6, 7]])\n",
        "\n",
        "# Number of principal components to extract\n",
        "k = 2\n",
        "\n",
        "# Print the top k principal components\n",
        "print(pca(data, k))"
      ]
    }
  ]
}
