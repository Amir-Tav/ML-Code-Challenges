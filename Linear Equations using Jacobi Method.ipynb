{
  "nbformat": 4,
  "nbformat_minor": 0,
  "metadata": {
    "colab": {
      "provenance": []
    },
    "kernelspec": {
      "name": "python3",
      "display_name": "Python 3"
    },
    "language_info": {
      "name": "python"
    }
  },
  "cells": [
    {
      "cell_type": "markdown",
      "source": [
        "## Solve Linear Equations using Jacobi Method\n",
        "\n",
        "The Jacobi Method is an iterative algorithm for solving systems of linear equations, particularly useful when the matrix is diagonally dominant.\n",
        "This approach involves repeatedly solving each equation in isolation and updating values until convergence is reached. For information can be found [here](https://www.deep-ml.com/problem/Solve%20Linear%20Equations%20using%20Jacobi%20Method).\n",
        "\n",
        "# Key Points:\n",
        "- **Inputs**: A matrix `A`, vector `b`, and the number of iterations `n`.\n",
        "- **Output**: Approximated solution vector `x`.\n",
        "- **Advantages**: Effective for large systems and can work in parallel.\n",
        "- **Limitations**: Convergence isn't guaranteed for all systems; it generally requires a diagonally dominant matrix.\n",
        "\n"
      ],
      "metadata": {
        "id": "5Rft7iZ_YZj2"
      }
    },
    {
      "cell_type": "code",
      "execution_count": 1,
      "metadata": {
        "colab": {
          "base_uri": "https://localhost:8080/"
        },
        "id": "V47wfoIcYWBQ",
        "outputId": "d04e973b-79d1-4a59-b278-6dcc686be1ed"
      },
      "outputs": [
        {
          "output_type": "stream",
          "name": "stdout",
          "text": [
            "[0.146, 0.2032, -0.5175]\n"
          ]
        }
      ],
      "source": [
        "import numpy as np\n",
        "def solve_jacobi(A: np.ndarray, b: np.ndarray, n: int) -> list:\n",
        "    size = len(b)\n",
        "    x = np.zeros(size)\n",
        "    for _ in range(n):\n",
        "        x_new = np.zeros(size)\n",
        "        for i in range(size):\n",
        "            sum_ax = np.dot(A[i, :], x) - (A[i,i] * x[i])\n",
        "            x_new[i] = (1/A[i][i]) * (b[i] - sum_ax)\n",
        "        x = x_new\n",
        "    return [float(f'{val:.4f}') for val in x]\n",
        "\n",
        "A = np.array([[5, -2, 3], [-3, 9, 1], [2, -1, -7]])\n",
        "b = np.array([-1, 2, 3])\n",
        "n = 2\n",
        "print(solve_jacobi(A, b, n))"
      ]
    }
  ]
}